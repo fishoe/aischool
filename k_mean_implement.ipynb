{
  "nbformat": 4,
  "nbformat_minor": 0,
  "metadata": {
    "colab": {
      "name": "Untitled2.ipynb",
      "provenance": [],
      "authorship_tag": "ABX9TyNRac9QIFSJSdJucKif7+UH",
      "include_colab_link": true
    },
    "kernelspec": {
      "name": "python3",
      "display_name": "Python 3"
    }
  },
  "cells": [
    {
      "cell_type": "markdown",
      "metadata": {
        "id": "view-in-github",
        "colab_type": "text"
      },
      "source": [
        "<a href=\"https://colab.research.google.com/github/fishoe/aischool/blob/master/k_mean_implement.ipynb\" target=\"_parent\"><img src=\"https://colab.research.google.com/assets/colab-badge.svg\" alt=\"Open In Colab\"/></a>"
      ]
    },
    {
      "cell_type": "code",
      "metadata": {
        "id": "tfjdpW5s3FPN",
        "colab_type": "code",
        "colab": {
          "base_uri": "https://localhost:8080/",
          "height": 297
        },
        "outputId": "af21baeb-5c57-4b11-9aa5-61cc0fde5ca7"
      },
      "source": [
        "import pandas as pd\n",
        "import numpy as np\n",
        "import matplotlib.pyplot as plt\n",
        "\n",
        "def find_dist(pos1, pos2):\n",
        "    return (pos2[0] - pos1[0]) ** 2 + (pos2[1] - pos1[1]) ** 2\n",
        "\n",
        "def make_sample(n):\n",
        "    col = ['x','y']\n",
        "    sample_list = np.random.random([n,2])*10\n",
        "    sample = pd.DataFrame(sample_list,columns=col)\n",
        "    return sample\n",
        "\n",
        "def make_init_pos(n,pos_list):\n",
        "    center = center_pos(pos_list)\n",
        "    result = []\n",
        "    for i in range(n):\n",
        "        r = center[0] if center[0] < center[1] else center[1]\n",
        "        y=r*np.sin(2*np.pi/(i+1)) + center[1]\n",
        "        x=r*np.cos(2*np.pi/(i+1)) + center[0]\n",
        "        result.append(np.array([x,y]))\n",
        "    return result\n",
        "\n",
        "\n",
        "def center_pos(pos_list):\n",
        "    center = np.array([0,0])\n",
        "    for i in pos_list:\n",
        "        center = center + i\n",
        "    return center/len(pos_list)\n",
        "\n",
        "def k_meanCluster(posList, nCluster):\n",
        "    clusters = [[i,[]] for i in make_init_pos(nCluster,posList)]\n",
        "    for i,pos in enumerate(posList) :\n",
        "        min_dist = -1\n",
        "        min_idx = 0\n",
        "        for j in range(nCluster):\n",
        "            temp = find_dist(pos,clusters[j][0])\n",
        "            if min_dist == -1 or min_dist > temp:\n",
        "                min_dist = temp\n",
        "                min_idx = j\n",
        "        clusters[min_idx][1].append(i)\n",
        "    clusters_old = []\n",
        "    while True :\n",
        "        clusters_old = np.array([x[1] for x in clusters])\n",
        "        clusters = []\n",
        "        for i in range(nCluster):\n",
        "            a = center_pos([posList[x] for x in clusters_old[i]])\n",
        "            clusters.append([a,[]])\n",
        "        for i, pos in enumerate(posList) :\n",
        "            min_dist = -1\n",
        "            min_idx = 0\n",
        "            for j in range(nCluster):\n",
        "                temp = find_dist(pos,clusters[j][0])\n",
        "                if min_dist == -1 or min_dist >temp:\n",
        "                    min_dist = temp\n",
        "                    min_idx= j\n",
        "            clusters[min_idx][1].append(i)\n",
        "        clusters = np.array(clusters)\n",
        "        t = np.array([x[1] for x in clusters])\n",
        "        if (t == clusters_old).all() : break\n",
        "    result = []\n",
        "    for i in clusters:\n",
        "        result.append([i[0],[posList[x] for x in i[1]]])\n",
        "    return result\n",
        "\n",
        "sample = make_sample(30)\n",
        "clst = k_meanCluster(sample.values, 3)\n",
        "\n",
        "centers = np.array([x[0] for x in clst])\n",
        "\n",
        "A = np.array(clst[0][1])\n",
        "B = np.array(clst[1][1])\n",
        "C = np.array(clst[2][1])\n",
        "\n",
        "plt.scatter(A[:,0],A[:,1],s = 50, c = 'lightgreen',marker='s',edgecolor = 'black',\n",
        "            label = 'cl1')\n",
        "plt.scatter(B[:,0],B[:,1],s = 50, c = 'orange',marker='v',edgecolor = 'black',\n",
        "            label = 'cl2')\n",
        "plt.scatter(C[:,0],C[:,1],s = 50, c = 'lightblue',marker='o',edgecolor = 'black',\n",
        "            label = 'cl3')\n",
        "plt.scatter(centers[:,0],centers[:,1],s = 250, c = 'red',marker='*',edgecolor = 'black',\n",
        "            label = 'centroids')\n",
        "plt.legend(scatterpoints=1)\n",
        "plt.grid()\n",
        "plt.tight_layout()\n",
        "plt.show()\n"
      ],
      "execution_count": 1,
      "outputs": [
        {
          "output_type": "display_data",
          "data": {
            "image/png": "[encoded data removed]",
            "text/plain": [
              "<Figure size 432x288 with 1 Axes>"
            ]
          },
          "metadata": {
            "tags": [],
            "needs_background": "light"
          }
        }
      ]
    }
  ]
}