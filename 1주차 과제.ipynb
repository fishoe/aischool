{
  "nbformat": 4,
  "nbformat_minor": 0,
  "metadata": {
    "colab": {
      "name": "Untitled0.ipynb",
      "provenance": [],
      "authorship_tag": "ABX9TyNFQCcR5VbCTwZpV6TI4j7g",
      "include_colab_link": true
    },
    "kernelspec": {
      "name": "python3",
      "display_name": "Python 3"
    }
  },
  "cells": [
    {
      "cell_type": "markdown",
      "metadata": {
        "id": "view-in-github",
        "colab_type": "text"
      },
      "source": [
        "<a href=\"https://colab.research.google.com/github/fishoe/aischool/blob/master/1%EC%A3%BC%EC%B0%A8%20%EA%B3%BC%EC%A0%9C.ipynb\" target=\"_parent\"><img src=\"https://colab.research.google.com/assets/colab-badge.svg\" alt=\"Open In Colab\"/></a>"
      ]
    },
    {
      "cell_type": "markdown",
      "metadata": {
        "id": "MvhTapv4n4hn",
        "colab_type": "text"
      },
      "source": [
        "# 1주차 과제\n",
        "1. 파파고(네이버) : 인공지능을 응용한 번역 서비스\n",
        "[파파고 번역](https://papago.naver.com/)\n",
        "```\n",
        "파파고는 기존의 단순 통계 기반 기계 번역에서 벗어나 대규모 병렬 코퍼스로부터 학습하는 NMT(Neural Machine Translation)를 구현하였습니다.\n",
        "파파고는 학습의 결과로 문장을 문장 벡터로 변환하는 신경망과 문장 벡터로부터 번역을 도출하는 신경망을 학습합니다.\n",
        "기존 네이버의 많은 번역 경험이 인공신경망을 학습시키는 베이스가 되어 한국어 번역에 있어서는 구글보다 더 뛰어난 번역 결과를 보여주는 서비스가 되었습니다.\n",
        "하지만 의역에 있어서는 아직 인간을 따라가기 힘든 제한이 있습니다.\n",
        "```\n",
        "2. Waifu2x(nagadomi)\n",
        "[Waifu2x 웹 서비스](http://waifu2x.udp.jp/index.ko.html)\n",
        "```\n",
        "Waifu2x는 비트맵 이미지를 확대하였을 때 생기는 계단 현상을 완화하고 고해상도의 확대 이미지를 CNN(convolution Neural Network)신경망을 통해 만들어내주는 서비스입니다. \n",
        "이미지 축소는 정보의 손실과 압축을 이용하면 기존의 알고리즘으로 처리가능 한 쉬운 문제이지만 확대는 그와 반대로 빈 공간의 정보를 생성하여야하는 어려운 문제입니다.\n",
        "이 문제에 인공지능은 CNN신경망을 통해 확대했을경우 생기는 빈공간에 어떤 정보를 넣어야하는 지 판단할 수 있게 되었습니다.\n",
        "다만 그림과 만화를 위주로 학습시키다 보니 실제 사진에 적응하면 다소 실망스러운 결과가 나온다는 한계가 있습니다.\n",
        "```\n",
        "3.구글 홈-구글 어시스턴트(구글) [구글 홈](https://store.google.com/product/google_home_speaker)\n",
        "```\n",
        "구글 홈은 구글에서 서비스하는 스마트 스피커로 구글 어시스턴트를 통해서 사용자의 음성을 인식, 텍스트로 변환하여 사용자의 명령을 해석하고 처리하는 장치입니다.\n",
        "실제 인공지능을 사용한 부분은 구글 어시스턴트이며, 구글 홈은 음성을 입력하는 마이크와 출력하는 스피커, 그리고 와이파이를 이용하여 인터넷에 연결되는 구조를 지니고 있습니다.\n",
        "구글은 이미 알파고를 통해서 인공지능 기술을 증명한바 있으며 구글 어시스턴트에는 RNN(Recurrent Neural Networks)신경망을 통해 사용자의 명령을 학습하는 것으로 알려져 있습니다.\n",
        "비슷한 음성 인식 서비스인 Apple사의 Siri와 비교할때 보다 정밀한 인식과 명령 처리를 보여주는 특성이 있으나, 영어 명령에 비해 한국어 명령이 다소 불완전하고 제약이 많습니다. \n",
        "```\n",
        "4.오토파일럿(테슬라) [테슬라](https://www.tesla.com/ko_KR/autopilot)\n",
        "```\n",
        "전기 자동차 제조사인 테슬라는 전기로 작동하는 자동차의 개념을 실생활에 접목시켰습니다. \n",
        "그러나 그 이외에도 많은 기술적 혁신을 보여주었고 그 중 하나인 오토파일럿 기술은 향상된 운전자 보조 시스템을 제공하며, 나아가서는 완전자율주행을 지향합니다.\n",
        "이 기술의 구현을 위해서 대형 인공신경망을 학습시켰으며, 자동차의 내부 컴퓨터 안에서 작동시키기 위한 하드웨어 또한 준비하였습니다.\n",
        "특히 2개의 Neural Network Accelerators는 주행 경험을 학습시키고 발전시켜 더 나은 주행 경험을 제공합니다.\n",
        "하지만 기술 초기인 현 시점에서는 몇 사고를 유발하는 등의 문제점 또한 존재합니다.\n",
        "```"
      ]
    }
  ]
}