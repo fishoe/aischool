{
  "nbformat": 4,
  "nbformat_minor": 0,
  "metadata": {
    "colab": {
      "name": "Untitled3.ipynb",
      "provenance": [],
      "authorship_tag": "ABX9TyP66exK4ixynvuVEfYGyLE6",
      "include_colab_link": true
    },
    "kernelspec": {
      "name": "python3",
      "display_name": "Python 3"
    }
  },
  "cells": [
    {
      "cell_type": "markdown",
      "metadata": {
        "id": "view-in-github",
        "colab_type": "text"
      },
      "source": [
        "<a href=\"https://colab.research.google.com/github/fishoe/aischool/blob/master/back_propagation.ipynb\" target=\"_parent\"><img src=\"https://colab.research.google.com/assets/colab-badge.svg\" alt=\"Open In Colab\"/></a>"
      ]
    },
    {
      "cell_type": "code",
      "metadata": {
        "id": "Z0AbbbOGwIRd",
        "colab_type": "code",
        "colab": {
          "base_uri": "https://localhost:8080/",
          "height": 140
        },
        "outputId": "7d04f5c4-60d0-4aa1-89ca-9c1fd7e9b4c6"
      },
      "source": [
        "#backpropagation\n",
        "\n",
        "def neuron(X,w,bias,wb):\n",
        "    return X * w + bias * wb\n",
        "\n",
        "expected = 3\n",
        "\n",
        "wb = 1\n",
        "w1 = 1\n",
        "h=neuron(2,w1,1,wb)\n",
        "w2 = 1\n",
        "out = neuron(h,w2,1,wb)\n",
        "print(\"out : \", out , \"w1:\", w1 , \"w2:\", w2, \"wb\", wb)\n",
        "lrate = 0.1\n",
        "\n",
        "for i in range(5):\n",
        "    e = expected - out\n",
        "    \n",
        "    w2 = w2 + w2 * e * lrate * h/wb\n",
        "    w1 = w1 + w1 * e * lrate * 2/wb\n",
        "    wb = wb + e * wb * lrate\n",
        "    h = neuron(2,w1,1,wb)\n",
        "    out = neuron(h,w2,1,wb)\n",
        "    print(\"out : \", out , \"w1:\", w1 , \"w2:\", w2, \"wb\", wb)\n",
        "print(out)\n"
      ],
      "execution_count": 1,
      "outputs": [
        {
          "output_type": "stream",
          "text": [
            "out :  4 w1: 1 w2: 1 wb 1\n",
            "out :  2.65 w1: 0.8 w2: 0.7 wb 0.9\n",
            "out :  2.9714128858024695 w1: 0.8622222222222223 w2: 0.7680555555555555 wb 0.9315\n",
            "out :  3.0009605301322475 w1: 0.8675144272958273 w2: 0.7743159122511485 wb 0.9341628896874999\n",
            "out :  2.999957902042698 w1: 0.8673360271994895 w2: 0.7741033988412475 wb 0.9340731605271028\n",
            "out :  3.0000018304962754 w1: 0.8673438452327191 w2: 0.7741127096245259 wb 0.9340770927843056\n",
            "3.0000018304962754\n"
          ],
          "name": "stdout"
        }
      ]
    }
  ]
}